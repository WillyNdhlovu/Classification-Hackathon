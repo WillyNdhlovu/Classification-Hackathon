{
 "cells": [
  {
   "cell_type": "markdown",
   "metadata": {
    "colab_type": "text",
    "id": "mdrM5nXj2jg4"
   },
   "source": [
    "<a id='the_data'></a>\n",
    "## Data overview"
   ]
  },
  {
   "cell_type": "markdown",
   "metadata": {
    "colab_type": "text",
    "id": "Zx7gMxtS4Bam"
   },
   "source": [
    "The collection of this data was funded by a Canada Foundation for Innovation JELF Grant to Chris Bauch, University of Waterloo. The dataset aggregates tweets pertaining to climate change collected between Apr 27, 2015 and Feb 21, 2018. In total, 43943 tweets were collected.\n",
    "\n",
    "The training and test datasets provided here is a subset of these 43943 tweets.\n",
    "\n",
    "The files to be downloaded are:\n",
    "* **Train.csv** - the dataset for training our model.\n",
    "* **Test.csv** - the dataset for testing our model .\n",
    "\n",
    "Variable definitions on the train dataset:\n",
    "\n",
    "`sentiment`: Sentiment of tweet\n",
    "\n",
    "`message`: Tweet body\n",
    "\n",
    "`tweetid`: Twitter unique ID\n",
    "\n",
    "Each tweet is labelled as one of the following sentiment classes:\n",
    "\n",
    "![image.png](data:image/png;base64,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)"
   ]
  },
  {
   "cell_type": "markdown",
   "metadata": {
    "colab_type": "text",
    "id": "LZrViDk65g4s"
   },
   "source": [
    "Before proceeding with importing the usual libraries, there are some natural language processing libraries that need to be installed: \n",
    "\n",
    "* `spacy`\n",
    "* `wordcloud`\n",
    "* `nltk`\n",
    "\n"
   ]
  },
  {
   "cell_type": "code",
   "execution_count": 1,
   "metadata": {
    "colab": {},
    "colab_type": "code",
    "id": "ylfS_Iu95gDn"
   },
   "outputs": [
    {
     "name": "stdout",
     "output_type": "stream",
     "text": [
      "Requirement already satisfied: spacy in /Users/rufusseopa/opt/anaconda3/lib/python3.8/site-packages (3.0.6)\n",
      "Requirement already satisfied: packaging>=20.0 in /Users/rufusseopa/opt/anaconda3/lib/python3.8/site-packages (from spacy) (20.4)\n",
      "Requirement already satisfied: murmurhash<1.1.0,>=0.28.0 in /Users/rufusseopa/opt/anaconda3/lib/python3.8/site-packages (from spacy) (1.0.5)\n",
      "Requirement already satisfied: srsly<3.0.0,>=2.4.1 in /Users/rufusseopa/opt/anaconda3/lib/python3.8/site-packages (from spacy) (2.4.1)\n",
      "Requirement already satisfied: pathy>=0.3.5 in /Users/rufusseopa/opt/anaconda3/lib/python3.8/site-packages (from spacy) (0.5.2)\n",
      "Requirement already satisfied: blis<0.8.0,>=0.4.0 in /Users/rufusseopa/opt/anaconda3/lib/python3.8/site-packages (from spacy) (0.7.4)\n",
      "Requirement already satisfied: thinc<8.1.0,>=8.0.3 in /Users/rufusseopa/opt/anaconda3/lib/python3.8/site-packages (from spacy) (8.0.3)\n",
      "Requirement already satisfied: jinja2 in /Users/rufusseopa/opt/anaconda3/lib/python3.8/site-packages (from spacy) (2.11.2)\n",
      "Requirement already satisfied: tqdm<5.0.0,>=4.38.0 in /Users/rufusseopa/opt/anaconda3/lib/python3.8/site-packages (from spacy) (4.50.2)\n",
      "Requirement already satisfied: catalogue<2.1.0,>=2.0.3 in /Users/rufusseopa/opt/anaconda3/lib/python3.8/site-packages (from spacy) (2.0.4)\n",
      "Requirement already satisfied: numpy>=1.15.0 in /Users/rufusseopa/opt/anaconda3/lib/python3.8/site-packages (from spacy) (1.19.2)\n",
      "Requirement already satisfied: typer<0.4.0,>=0.3.0 in /Users/rufusseopa/opt/anaconda3/lib/python3.8/site-packages (from spacy) (0.3.2)\n",
      "Requirement already satisfied: spacy-legacy<3.1.0,>=3.0.4 in /Users/rufusseopa/opt/anaconda3/lib/python3.8/site-packages (from spacy) (3.0.5)\n",
      "Requirement already satisfied: setuptools in /Users/rufusseopa/opt/anaconda3/lib/python3.8/site-packages (from spacy) (50.3.1.post20201107)\n",
      "Requirement already satisfied: preshed<3.1.0,>=3.0.2 in /Users/rufusseopa/opt/anaconda3/lib/python3.8/site-packages (from spacy) (3.0.5)\n",
      "Requirement already satisfied: cymem<2.1.0,>=2.0.2 in /Users/rufusseopa/opt/anaconda3/lib/python3.8/site-packages (from spacy) (2.0.5)\n",
      "Requirement already satisfied: requests<3.0.0,>=2.13.0 in /Users/rufusseopa/opt/anaconda3/lib/python3.8/site-packages (from spacy) (2.24.0)\n",
      "Requirement already satisfied: wasabi<1.1.0,>=0.8.1 in /Users/rufusseopa/opt/anaconda3/lib/python3.8/site-packages (from spacy) (0.8.2)\n",
      "Requirement already satisfied: pydantic<1.8.0,>=1.7.1 in /Users/rufusseopa/opt/anaconda3/lib/python3.8/site-packages (from spacy) (1.7.4)\n",
      "Requirement already satisfied: six in /Users/rufusseopa/opt/anaconda3/lib/python3.8/site-packages (from packaging>=20.0->spacy) (1.15.0)\n",
      "Requirement already satisfied: pyparsing>=2.0.2 in /Users/rufusseopa/opt/anaconda3/lib/python3.8/site-packages (from packaging>=20.0->spacy) (2.4.7)\n",
      "Requirement already satisfied: smart-open<4.0.0,>=2.2.0 in /Users/rufusseopa/opt/anaconda3/lib/python3.8/site-packages (from pathy>=0.3.5->spacy) (3.0.0)\n",
      "Requirement already satisfied: MarkupSafe>=0.23 in /Users/rufusseopa/opt/anaconda3/lib/python3.8/site-packages (from jinja2->spacy) (1.1.1)\n",
      "Requirement already satisfied: click<7.2.0,>=7.1.1 in /Users/rufusseopa/opt/anaconda3/lib/python3.8/site-packages (from typer<0.4.0,>=0.3.0->spacy) (7.1.2)\n",
      "Requirement already satisfied: idna<3,>=2.5 in /Users/rufusseopa/opt/anaconda3/lib/python3.8/site-packages (from requests<3.0.0,>=2.13.0->spacy) (2.10)\n",
      "Requirement already satisfied: certifi>=2017.4.17 in /Users/rufusseopa/opt/anaconda3/lib/python3.8/site-packages (from requests<3.0.0,>=2.13.0->spacy) (2020.6.20)\n",
      "Requirement already satisfied: urllib3!=1.25.0,!=1.25.1,<1.26,>=1.21.1 in /Users/rufusseopa/opt/anaconda3/lib/python3.8/site-packages (from requests<3.0.0,>=2.13.0->spacy) (1.25.11)\n",
      "Requirement already satisfied: chardet<4,>=3.0.2 in /Users/rufusseopa/opt/anaconda3/lib/python3.8/site-packages (from requests<3.0.0,>=2.13.0->spacy) (3.0.4)\n",
      "Requirement already satisfied: wordcloud in /Users/rufusseopa/opt/anaconda3/lib/python3.8/site-packages (1.8.1)\n",
      "Requirement already satisfied: pillow in /Users/rufusseopa/opt/anaconda3/lib/python3.8/site-packages (from wordcloud) (8.0.1)\n",
      "Requirement already satisfied: matplotlib in /Users/rufusseopa/opt/anaconda3/lib/python3.8/site-packages (from wordcloud) (3.3.2)\n",
      "Requirement already satisfied: numpy>=1.6.1 in /Users/rufusseopa/opt/anaconda3/lib/python3.8/site-packages (from wordcloud) (1.19.2)\n",
      "Requirement already satisfied: pyparsing!=2.0.4,!=2.1.2,!=2.1.6,>=2.0.3 in /Users/rufusseopa/opt/anaconda3/lib/python3.8/site-packages (from matplotlib->wordcloud) (2.4.7)\n",
      "Requirement already satisfied: kiwisolver>=1.0.1 in /Users/rufusseopa/opt/anaconda3/lib/python3.8/site-packages (from matplotlib->wordcloud) (1.3.0)\n",
      "Requirement already satisfied: certifi>=2020.06.20 in /Users/rufusseopa/opt/anaconda3/lib/python3.8/site-packages (from matplotlib->wordcloud) (2020.6.20)\n",
      "Requirement already satisfied: python-dateutil>=2.1 in /Users/rufusseopa/opt/anaconda3/lib/python3.8/site-packages (from matplotlib->wordcloud) (2.8.1)\n",
      "Requirement already satisfied: cycler>=0.10 in /Users/rufusseopa/opt/anaconda3/lib/python3.8/site-packages (from matplotlib->wordcloud) (0.10.0)\n",
      "Requirement already satisfied: six>=1.5 in /Users/rufusseopa/opt/anaconda3/lib/python3.8/site-packages (from python-dateutil>=2.1->matplotlib->wordcloud) (1.15.0)\n",
      "Requirement already satisfied: nltk in /Users/rufusseopa/opt/anaconda3/lib/python3.8/site-packages (3.5)\n",
      "Requirement already satisfied: regex in /Users/rufusseopa/opt/anaconda3/lib/python3.8/site-packages (from nltk) (2020.10.15)\n",
      "Requirement already satisfied: click in /Users/rufusseopa/opt/anaconda3/lib/python3.8/site-packages (from nltk) (7.1.2)\n",
      "Requirement already satisfied: joblib in /Users/rufusseopa/opt/anaconda3/lib/python3.8/site-packages (from nltk) (0.17.0)\n",
      "Requirement already satisfied: tqdm in /Users/rufusseopa/opt/anaconda3/lib/python3.8/site-packages (from nltk) (4.50.2)\n"
     ]
    }
   ],
   "source": [
    "!pip install spacy\n",
    "!pip install wordcloud\n",
    "!pip install nltk"
   ]
  },
  {
   "cell_type": "code",
   "execution_count": 2,
   "metadata": {
    "colab": {},
    "colab_type": "code",
    "id": "SAq8xhN212Sp",
    "outputId": "93e5af1b-8d55-4b73-ce83-adf408a6ddea"
   },
   "outputs": [],
   "source": [
    "#standard libraries\n",
    "import numpy as np\n",
    "import pandas as pd\n",
    "\n",
    "#visualization libraries\n",
    "import matplotlib.pyplot as plt\n",
    "import seaborn as sns\n",
    "import wordcloud\n",
    "\n",
    "#modeling libraries\n",
    "from sklearn.linear_model import LogisticRegression\n",
    "from sklearn.model_selection import train_test_split, GridSearchCV\n",
    "from sklearn.pipeline import Pipeline\n",
    "from sklearn.feature_extraction.text import TfidfVectorizer, CountVectorizer\n",
    "from sklearn.neighbors import KNeighborsClassifier\n",
    "from sklearn.svm import LinearSVC,SVC\n",
    "from sklearn.metrics import accuracy_score,recall_score,precision_score,f1_score,confusion_matrix\n",
    "from sklearn.utils import resample\n",
    "\n",
    "#text preprocessing libraries\n",
    "import re\n",
    "import spacy\n",
    "nlp = spacy.load('en_core_web_sm')\n",
    "from nltk.corpus import stopwords\n",
    "from nltk.tokenize import word_tokenize\n",
    "from nltk import TreebankWordTokenizer, SnowballStemmer\n",
    "from nltk.stem import WordNetLemmatizer\n",
    "import string\n",
    "\n",
    "#pickling\n",
    "import pickle"
   ]
  },
  {
   "cell_type": "markdown",
   "metadata": {
    "colab_type": "text",
    "id": "mOk8Taoe_lHW"
   },
   "source": [
    "<a id='the_load'></a>\n",
    "## Loading the datasets"
   ]
  },
  {
   "cell_type": "code",
   "execution_count": 3,
   "metadata": {
    "colab": {},
    "colab_type": "code",
    "id": "v65gGRHwBfjN"
   },
   "outputs": [],
   "source": [
    "import os\n",
    "for dirname, _, filenames in os.walk('/kaggle/input'):\n",
    "    for filename in filenames:\n",
    "        print(os.path.join(dirname, filename))"
   ]
  },
  {
   "cell_type": "code",
   "execution_count": 4,
   "metadata": {
    "colab": {},
    "colab_type": "code",
    "id": "JkJkO-XoBGZk"
   },
   "outputs": [],
   "source": [
    "train_data = pd.read_csv('train_set.csv')\n",
    "test_data = pd.read_csv('test_set.csv')"
   ]
  },
  {
   "cell_type": "code",
   "execution_count": 5,
   "metadata": {},
   "outputs": [],
   "source": [
    "#train_data = pd.read_csv('/kaggle/input/climate-change-belief-analysis/train.csv')\n",
    "#test_data = pd.read_csv('/kaggle/input/climate-change-belief-analysis/test.csv')"
   ]
  },
  {
   "cell_type": "markdown",
   "metadata": {
    "colab_type": "text",
    "id": "lkEpisdUFJgM"
   },
   "source": [
    "<a id='inspecting'></a>\n",
    "## Inspecting the data"
   ]
  },
  {
   "cell_type": "code",
   "execution_count": 6,
   "metadata": {
    "colab": {},
    "colab_type": "code",
    "id": "2GV2A9wUEs0Q",
    "outputId": "5fc25471-41e4-4b5e-eea6-ad8243117ac2"
   },
   "outputs": [
    {
     "data": {
      "text/html": [
       "<div>\n",
       "<style scoped>\n",
       "    .dataframe tbody tr th:only-of-type {\n",
       "        vertical-align: middle;\n",
       "    }\n",
       "\n",
       "    .dataframe tbody tr th {\n",
       "        vertical-align: top;\n",
       "    }\n",
       "\n",
       "    .dataframe thead th {\n",
       "        text-align: right;\n",
       "    }\n",
       "</style>\n",
       "<table border=\"1\" class=\"dataframe\">\n",
       "  <thead>\n",
       "    <tr style=\"text-align: right;\">\n",
       "      <th></th>\n",
       "      <th>lang_id</th>\n",
       "      <th>text</th>\n",
       "    </tr>\n",
       "  </thead>\n",
       "  <tbody>\n",
       "    <tr>\n",
       "      <th>0</th>\n",
       "      <td>xho</td>\n",
       "      <td>umgaqo-siseko wenza amalungiselelo kumaziko ax...</td>\n",
       "    </tr>\n",
       "    <tr>\n",
       "      <th>1</th>\n",
       "      <td>xho</td>\n",
       "      <td>i-dha iya kuba nobulumko bokubeka umsebenzi na...</td>\n",
       "    </tr>\n",
       "    <tr>\n",
       "      <th>2</th>\n",
       "      <td>eng</td>\n",
       "      <td>the province of kwazulu-natal department of tr...</td>\n",
       "    </tr>\n",
       "    <tr>\n",
       "      <th>3</th>\n",
       "      <td>nso</td>\n",
       "      <td>o netefatša gore o ba file dilo ka moka tše le...</td>\n",
       "    </tr>\n",
       "    <tr>\n",
       "      <th>4</th>\n",
       "      <td>ven</td>\n",
       "      <td>khomishini ya ndinganyiso ya mbeu yo ewa maana...</td>\n",
       "    </tr>\n",
       "  </tbody>\n",
       "</table>\n",
       "</div>"
      ],
      "text/plain": [
       "  lang_id                                               text\n",
       "0     xho  umgaqo-siseko wenza amalungiselelo kumaziko ax...\n",
       "1     xho  i-dha iya kuba nobulumko bokubeka umsebenzi na...\n",
       "2     eng  the province of kwazulu-natal department of tr...\n",
       "3     nso  o netefatša gore o ba file dilo ka moka tše le...\n",
       "4     ven  khomishini ya ndinganyiso ya mbeu yo ewa maana..."
      ]
     },
     "execution_count": 6,
     "metadata": {},
     "output_type": "execute_result"
    }
   ],
   "source": [
    "train_data.head()"
   ]
  },
  {
   "cell_type": "code",
   "execution_count": 7,
   "metadata": {
    "colab": {},
    "colab_type": "code",
    "id": "-M4JX1rtFaij",
    "outputId": "3fd89070-d5e4-4a6c-81f0-10b073ffc16d"
   },
   "outputs": [
    {
     "data": {
      "text/html": [
       "<div>\n",
       "<style scoped>\n",
       "    .dataframe tbody tr th:only-of-type {\n",
       "        vertical-align: middle;\n",
       "    }\n",
       "\n",
       "    .dataframe tbody tr th {\n",
       "        vertical-align: top;\n",
       "    }\n",
       "\n",
       "    .dataframe thead th {\n",
       "        text-align: right;\n",
       "    }\n",
       "</style>\n",
       "<table border=\"1\" class=\"dataframe\">\n",
       "  <thead>\n",
       "    <tr style=\"text-align: right;\">\n",
       "      <th></th>\n",
       "      <th>index</th>\n",
       "      <th>text</th>\n",
       "    </tr>\n",
       "  </thead>\n",
       "  <tbody>\n",
       "    <tr>\n",
       "      <th>0</th>\n",
       "      <td>1</td>\n",
       "      <td>Mmasepala, fa maemo a a kgethegileng a letlele...</td>\n",
       "    </tr>\n",
       "    <tr>\n",
       "      <th>1</th>\n",
       "      <td>2</td>\n",
       "      <td>Uzakwaziswa ngokufaneleko nakungafuneka eminye...</td>\n",
       "    </tr>\n",
       "    <tr>\n",
       "      <th>2</th>\n",
       "      <td>3</td>\n",
       "      <td>Tshivhumbeo tshi fana na ngano dza vhathu.</td>\n",
       "    </tr>\n",
       "    <tr>\n",
       "      <th>3</th>\n",
       "      <td>4</td>\n",
       "      <td>Kube inja nelikati betingevakala kutsi titsini...</td>\n",
       "    </tr>\n",
       "    <tr>\n",
       "      <th>4</th>\n",
       "      <td>5</td>\n",
       "      <td>Winste op buitelandse valuta.</td>\n",
       "    </tr>\n",
       "  </tbody>\n",
       "</table>\n",
       "</div>"
      ],
      "text/plain": [
       "   index                                               text\n",
       "0      1  Mmasepala, fa maemo a a kgethegileng a letlele...\n",
       "1      2  Uzakwaziswa ngokufaneleko nakungafuneka eminye...\n",
       "2      3         Tshivhumbeo tshi fana na ngano dza vhathu.\n",
       "3      4  Kube inja nelikati betingevakala kutsi titsini...\n",
       "4      5                      Winste op buitelandse valuta."
      ]
     },
     "execution_count": 7,
     "metadata": {},
     "output_type": "execute_result"
    }
   ],
   "source": [
    "test_data.head()"
   ]
  },
  {
   "cell_type": "code",
   "execution_count": 8,
   "metadata": {
    "colab": {},
    "colab_type": "code",
    "id": "B8tHBW2bBfjj",
    "outputId": "de4feecf-dad1-4623-bf93-4aa8662ac015"
   },
   "outputs": [
    {
     "data": {
      "text/plain": [
       "(33000, 5682)"
      ]
     },
     "execution_count": 8,
     "metadata": {},
     "output_type": "execute_result"
    }
   ],
   "source": [
    "len(train_data), len(test_data)"
   ]
  },
  {
   "cell_type": "markdown",
   "metadata": {
    "colab_type": "text",
    "id": "1rKzQkyJBfjp"
   },
   "source": [
    "The training set has 15819 tweets.\n",
    "\n",
    "The testing set has 10546 tweets. "
   ]
  },
  {
   "cell_type": "markdown",
   "metadata": {
    "colab_type": "text",
    "id": "5D7BzlfuK2of"
   },
   "source": [
    "For ease, the `tweetid` column is set to be the index. "
   ]
  },
  {
   "cell_type": "code",
   "execution_count": 9,
   "metadata": {
    "colab": {},
    "colab_type": "code",
    "id": "lgcc_N62K9XY"
   },
   "outputs": [],
   "source": [
    "\n",
    "test_data.set_index('index', inplace=True)"
   ]
  },
  {
   "cell_type": "markdown",
   "metadata": {
    "colab_type": "text",
    "id": "--UNlN93Bfjv"
   },
   "source": [
    "Checking for missing data:"
   ]
  },
  {
   "cell_type": "code",
   "execution_count": 10,
   "metadata": {
    "colab": {},
    "colab_type": "code",
    "id": "E5Z-5KacBfjv",
    "outputId": "5720e378-aeb0-490e-8050-ddfb1e259550"
   },
   "outputs": [
    {
     "data": {
      "text/plain": [
       "lang_id    0\n",
       "text       0\n",
       "dtype: int64"
      ]
     },
     "execution_count": 10,
     "metadata": {},
     "output_type": "execute_result"
    }
   ],
   "source": [
    "train_data.isnull().sum()"
   ]
  },
  {
   "cell_type": "code",
   "execution_count": 11,
   "metadata": {
    "colab": {},
    "colab_type": "code",
    "id": "02UP-StrBfjy",
    "outputId": "6239aa16-7af6-4d39-912d-f12a0e06b28e"
   },
   "outputs": [
    {
     "data": {
      "text/plain": [
       "text    0\n",
       "dtype: int64"
      ]
     },
     "execution_count": 11,
     "metadata": {},
     "output_type": "execute_result"
    }
   ],
   "source": [
    "test_data.isnull().sum()"
   ]
  },
  {
   "cell_type": "markdown",
   "metadata": {
    "colab_type": "text",
    "id": "HEKJfJvoBfj2"
   },
   "source": [
    "Checking for empty strings:"
   ]
  },
  {
   "cell_type": "code",
   "execution_count": 12,
   "metadata": {
    "colab": {},
    "colab_type": "code",
    "id": "MGAXCy18Bfj3",
    "outputId": "a81409f4-4342-4e79-83a0-01adf0f7486a"
   },
   "outputs": [
    {
     "name": "stdout",
     "output_type": "stream",
     "text": [
      "0 blanks in train data:  []\n"
     ]
    }
   ],
   "source": [
    "blanks = []  # start with an empty list\n",
    "\n",
    "for i,lb,tw in train_data.itertuples():  # iterate over the DataFrame\n",
    "    if type(tw)==str:                    # avoid NaN values\n",
    "        if tw.isspace():                 # test 'review' for whitespace\n",
    "            blanks.append(i)             # add matching index numbers to the list\n",
    "        \n",
    "print(len(blanks), 'blanks in train data: ', blanks)   # Checking for empty strings"
   ]
  },
  {
   "cell_type": "code",
   "execution_count": 13,
   "metadata": {
    "colab": {},
    "colab_type": "code",
    "id": "Q9jWz24eBfj6",
    "outputId": "6f996430-f373-46a3-91d8-b04334cbe603"
   },
   "outputs": [
    {
     "name": "stdout",
     "output_type": "stream",
     "text": [
      "0 blanks in test data:  []\n"
     ]
    }
   ],
   "source": [
    "blanks = []  # start with an empty list\n",
    "\n",
    "for i, tw in test_data.iterrows():  # iterate over the DataFrame\n",
    "    if type(tw)==str:            # avoid NaN values\n",
    "        if tw.isspace():         # test 'review' for whitespace\n",
    "            blanks.append(i)     # add matching index numbers to the list\n",
    "        \n",
    "print(len(blanks), 'blanks in test data: ', blanks)"
   ]
  },
  {
   "cell_type": "markdown",
   "metadata": {
    "colab_type": "text",
    "id": "1KlU3DzdBfj_"
   },
   "source": [
    "Th data has no missing values, and no empty tweet strings."
   ]
  },
  {
   "cell_type": "markdown",
   "metadata": {
    "colab_type": "text",
    "id": "tu5vOrDZIx3e"
   },
   "source": [
    "### **Noise Removal**"
   ]
  },
  {
   "cell_type": "code",
   "execution_count": 14,
   "metadata": {
    "colab": {},
    "colab_type": "code",
    "id": "b1XpyxofFeMe"
   },
   "outputs": [],
   "source": [
    "#Converting every tweet to be lower case\n",
    "train_data['text'] = train_data['text'].str.lower()\n",
    "test_data['text'] = test_data['text'].str.lower()"
   ]
  },
  {
   "cell_type": "markdown",
   "metadata": {
    "colab_type": "text",
    "id": "gVjcDHH3BfkI"
   },
   "source": [
    "Here, unexpected artifacts, urls, twitter handles and numbers in the tweets are removed. "
   ]
  },
  {
   "cell_type": "code",
   "execution_count": 15,
   "metadata": {
    "colab": {},
    "colab_type": "code",
    "id": "aOEiakXrKHjB"
   },
   "outputs": [],
   "source": [
    "def cleaning(text):\n",
    "    \n",
    "    \"\"\"\n",
    "    Function takes in a text, and returns it cleaned of all noise \n",
    "    (such as  unexpected artifacts, urls, twitter handles and numbers).\n",
    "    \n",
    "    \"\"\"\n",
    "    \n",
    "    text = re.sub(r'http\\S+', '', text)\n",
    "    text = re.sub(r'@[\\w]*','',text)\n",
    "    text = re.sub(r'â€¦', '', text)\n",
    "    text = re.sub(r'…', '', text)\n",
    "    text = re.sub(r'â€™', \"'\", text)\n",
    "    text = re.sub(r'â€˜', \"'\", text)\n",
    "    text = re.sub(r'\\$q\\$', \"'\", text)\n",
    "    text = re.sub(r'&amp;', \"and\", text)\n",
    "    text = re.sub('[0-9]+', '', text)\n",
    "    \n",
    "    words = text.split()  \n",
    "    \n",
    "    return( \" \".join(words))\n"
   ]
  },
  {
   "cell_type": "code",
   "execution_count": 16,
   "metadata": {
    "colab": {},
    "colab_type": "code",
    "id": "LRm0EM7KSuyR"
   },
   "outputs": [],
   "source": [
    "train_data['text'] = train_data['text'].apply(cleaning)\n",
    "test_data['text'] = test_data['text'].apply(cleaning)"
   ]
  },
  {
   "cell_type": "markdown",
   "metadata": {
    "colab_type": "text",
    "id": "r9l7rh_XBfkQ"
   },
   "source": [
    "Python's `string` library is used to remove punctuation."
   ]
  },
  {
   "cell_type": "code",
   "execution_count": 17,
   "metadata": {
    "colab": {},
    "colab_type": "code",
    "id": "dWH5BSGEBfkR"
   },
   "outputs": [],
   "source": [
    "def remove_punctuation(text):\n",
    "    \n",
    "    \"\"\"custom function to remove the punctuation\"\"\"\n",
    "    \n",
    "    return text.translate(str.maketrans('', '', string.punctuation))"
   ]
  },
  {
   "cell_type": "code",
   "execution_count": 18,
   "metadata": {
    "colab": {},
    "colab_type": "code",
    "id": "v2u4wND8BfkW"
   },
   "outputs": [],
   "source": [
    "train_data['text'] = train_data['text'].apply(remove_punctuation)\n",
    "test_data['text'] = test_data['text'].apply(remove_punctuation)"
   ]
  },
  {
   "cell_type": "markdown",
   "metadata": {
    "colab_type": "text",
    "id": "gI_q_vwwBfkY"
   },
   "source": [
    "It is noticed that the tweets contain 'rt', implying a retweet.\n",
    "\n",
    "Hence, 'rt', 'rts' and 'retweet' are added as stopwords, and all stopwords are now removed. "
   ]
  },
  {
   "cell_type": "code",
   "execution_count": 19,
   "metadata": {
    "colab": {},
    "colab_type": "code",
    "id": "0SUq5nFlgax_"
   },
   "outputs": [],
   "source": [
    "#Remove Stop words\n",
    "def stop(text):\n",
    "    \n",
    "    \"\"\"\" \n",
    "    Function takes in some text, adds the variants of 'retweets'\n",
    "    into the stopwords list, and then removes all stopwords.\n",
    "    \n",
    "    \"\"\"\n",
    "    \n",
    "    word = text.split()\n",
    "    #Remove stop words\n",
    "    stop_additional = ['rt','rts', 'retweet']\n",
    "    stop_word = set().union(stopwords.words('english'), stop_additional)\n",
    "    remove_stop = [w for w in word if w not in stop_word]\n",
    "    free_stop = \" \".join(remove_stop)\n",
    "    \n",
    "    return free_stop \n"
   ]
  },
  {
   "cell_type": "code",
   "execution_count": 20,
   "metadata": {
    "colab": {},
    "colab_type": "code",
    "id": "RKHayjizgm0J"
   },
   "outputs": [],
   "source": [
    "train_data['text'] = train_data['text'].apply(stop)\n",
    "test_data['text'] = test_data['text'].apply(stop)"
   ]
  },
  {
   "cell_type": "markdown",
   "metadata": {
    "colab_type": "text",
    "id": "rMofB282VO-I"
   },
   "source": [
    "### Lexicon Normalization "
   ]
  },
  {
   "cell_type": "markdown",
   "metadata": {
    "colab_type": "text",
    "id": "gC9KduwIXftk"
   },
   "source": [
    "Another type of textual noise to be removed include multiple representations exhibited by a single word."
   ]
  },
  {
   "cell_type": "markdown",
   "metadata": {
    "colab_type": "text",
    "id": "q7nTxqSoX7QA"
   },
   "source": [
    "The common types of Lexicon Normalization:\n",
    "\n",
    "\n",
    "* **Stemming**:  Stemming is a rudimentary rule-based process of stripping the suffixes (“ing”, “ly”, “es”, “s”, etc) from a word.\n",
    "* **Lemmatization**: Lemmatization, on the other hand, is an organized, and step-by-step procedure of obtaining the root form of the word, by making use of vocabulary (dictionary importance of words) and morphological analysis (word structure and grammar relations).\n",
    "\n",
    "In this case, lemmatization is chosen. In lemmatization, words like \"loving\", \"lovely\" and \"loved\" are normalized to their root-word \"love\".\n",
    "This process returns words present in our dictionary; unlike stemming which may return words that may not even exist. \n",
    "\n",
    "\n"
   ]
  },
  {
   "cell_type": "code",
   "execution_count": 21,
   "metadata": {
    "colab": {},
    "colab_type": "code",
    "id": "WOj4Qs56Bfki"
   },
   "outputs": [],
   "source": [
    "def lemmatizer(text):\n",
    "    \n",
    "    \"\"\"\" \n",
    "    Function takes in some text, and returns the lemmatized text.\n",
    "    \n",
    "    \"\"\"\n",
    "    \n",
    "    lemma = WordNetLemmatizer()\n",
    "    new_text = \" \".join([lemma.lemmatize(lem) for lem in text.split()])\n",
    "    \n",
    "    return new_text\n"
   ]
  },
  {
   "cell_type": "code",
   "execution_count": 22,
   "metadata": {
    "colab": {},
    "colab_type": "code",
    "id": "37yssBh2Bfkl"
   },
   "outputs": [],
   "source": [
    "train_data['text'] = train_data['text'].apply(lemmatizer)\n",
    "test_data['text'] = test_data['text'].apply(lemmatizer)"
   ]
  },
  {
   "cell_type": "markdown",
   "metadata": {
    "colab_type": "text",
    "id": "PTa9ldGFZZfD"
   },
   "source": [
    "[Feature engineering](https://www.kaggle.com/shivamb/extensive-text-data-feature-engineering) on text data simply means extracting features from text using the following techniques:\n",
    "\n",
    "* **Bag of Words** <br>\n",
    "This extracts features from text and counts the frequency of words in a document (the simplest form). \n",
    "<br>\n",
    "*  **TF-IDF** <br>\n",
    "Tfidf combines **Term Frequency (TF)** and **Inverse Document Frequency** (IDF). It computes the term frequency-inverse document value for each word. TF is the raw count of a term in a document. IDF is an algorithm that reduces the weight for most common words and add more weight for words that are rare in a document. We compute these two as follows:\n",
    "  * TF(t) = (Number of times term t appears in a document) / (Total number of terms in the document)\n",
    "  * IDF(t) = log_e(Total number of documents / Number of documents with term t in it) \n",
    "  <br>\n",
    "\n",
    "* **Word2Vec** <br>\n",
    "This is a two layer neutral-net that processes text.\n",
    "\n",
    "This notebook makes use of the **TF-IDF** method."
   ]
  },
  {
   "cell_type": "markdown",
   "metadata": {
    "colab_type": "text",
    "id": "1acpfNcGBfl_"
   },
   "source": [
    "Firstly, the data has to be split into labels and features. "
   ]
  },
  {
   "cell_type": "markdown",
   "metadata": {
    "colab_type": "text",
    "id": "feYZCCRoGpPE"
   },
   "source": [
    "### Obtaining X and y"
   ]
  },
  {
   "cell_type": "code",
   "execution_count": 23,
   "metadata": {
    "colab": {},
    "colab_type": "code",
    "id": "MOxLlwaPGoVT"
   },
   "outputs": [],
   "source": [
    "X = train_data['text']\n",
    "y = train_data['lang_id'].values"
   ]
  },
  {
   "cell_type": "markdown",
   "metadata": {
    "colab_type": "text",
    "id": "bhL6HsM-Pfan"
   },
   "source": [
    "The training data is now split up into the training dataset and the validation dataset."
   ]
  },
  {
   "cell_type": "markdown",
   "metadata": {
    "colab_type": "text",
    "id": "lyZ0oz32BfmD"
   },
   "source": [
    "### Splitting into training and validation sets"
   ]
  },
  {
   "cell_type": "code",
   "execution_count": 24,
   "metadata": {
    "colab": {},
    "colab_type": "code",
    "id": "SXC53bEzBfmF"
   },
   "outputs": [],
   "source": [
    "X_train,X_test,y_train,y_test = train_test_split(X,y,test_size=0.2,random_state=42)"
   ]
  },
  {
   "cell_type": "markdown",
   "metadata": {
    "colab_type": "text",
    "id": "dbj1_ukAbgBw"
   },
   "source": [
    "### Applying Tfidf"
   ]
  },
  {
   "cell_type": "markdown",
   "metadata": {
    "colab_type": "text",
    "id": "S1Xc7b8Fbl6F"
   },
   "source": [
    "We now apply scikit-learn's `TfidfVectorizer` which does the following to our text data:\n",
    "\n",
    "*   It counts all the occurrences of the unique words and transforms the tweets to feature vectors\n",
    "*   A refinement on top of counting the words is to downscale the weight for words that occur in many tweets (such as \"the\") and are therefore less informative than those that occur only in a few tweets (such as \"climate\").\n",
    "*   This is achieved by simply dividing the number of occurrences of each word in the tweets by the total number of words in the tweets.\n"
   ]
  },
  {
   "cell_type": "code",
   "execution_count": 25,
   "metadata": {
    "colab": {},
    "colab_type": "code",
    "id": "CelvHzU0a_Ov",
    "outputId": "a289625a-1753-480e-e17a-8f658675fa2a"
   },
   "outputs": [
    {
     "data": {
      "text/plain": [
       "(26400, 125744)"
      ]
     },
     "execution_count": 25,
     "metadata": {},
     "output_type": "execute_result"
    }
   ],
   "source": [
    "vectorizer = TfidfVectorizer()\n",
    "X_train_tfidf = vectorizer.fit_transform(X_train)\n",
    "X_train_tfidf.shape"
   ]
  },
  {
   "cell_type": "markdown",
   "metadata": {
    "colab_type": "text",
    "id": "bljkafltb9E-"
   },
   "source": [
    "Note the shape of `X_train_tfidf`, which indicates the number of features in the feature vector."
   ]
  },
  {
   "cell_type": "markdown",
   "metadata": {
    "colab_type": "text",
    "id": "OGddBsj_iZm2"
   },
   "source": [
    "<a id='the_fit'></a>\n",
    "## Modelling before resampling\n"
   ]
  },
  {
   "cell_type": "markdown",
   "metadata": {
    "colab_type": "text",
    "id": "_aaVuZbNBfmQ"
   },
   "source": [
    "**Models to Fit:**\n",
    "\n",
    "1. **Logistic Regression**\n",
    "   * Logistic Regression models the probability that `Y`(label) belongs to a certain category (or class). It uses the logistic       function to fit the model using the **maximum likelihood** method. It produces an `S-shaped` curve. This model         can be extended to Multi-class classification, where multiple logistic models can be combined using the          `one-vs-rest` approach.\n",
    "<br>   \n",
    "\n",
    "\n",
    "2. **Support Vector Machine**\n",
    "   *  In classification, an SVM model is a representation of the examples as points in space, mapped so that the examples of the separate categories are divided by a clear gap that is as wide as possible. New examples are then mapped into that same space and predicted to belong to a category based on the side of the gap on which they fall.\n",
    "   *  In addition to performing linear classification, SVMs can efficiently perform a non-linear classification using what is called the kernel trick, implicitly mapping their inputs into high-dimensional feature spaces.\n",
    "<br> \n",
    "\n",
    " \n",
    "3. **K-Nearest Neighbors (K-NN)**\n",
    "   * K-NN is an easy and powerful machine learning algorithm. The algorithm works by assigning the majority class of the N-closest neighbors to the current data point. Hence, no training is required for the algorithm; the only thing that needs to be done is choosing the value of `k` (i.e. the number of neighbors to consider) and choose the Euclidean distance function (`minkowski`) to calculate proximity.<br>\n",
    "  "
   ]
  },
  {
   "cell_type": "markdown",
   "metadata": {
    "colab_type": "text",
    "id": "Fs7_xj2XjYGs"
   },
   "source": [
    "### Modelling with default parameters"
   ]
  },
  {
   "cell_type": "markdown",
   "metadata": {
    "colab_type": "text",
    "id": "kqxZkPTbjBH2"
   },
   "source": [
    "Remember that only the training set has been vectorized into a full vocabulary. In order to perform an analysis on the test set, it has to be submitted to the same procedures. Hence, the `Pipeline` class is used. \n"
   ]
  },
  {
   "cell_type": "code",
   "execution_count": 34,
   "metadata": {
    "colab": {},
    "colab_type": "code",
    "id": "PrV9Xy57BfmT"
   },
   "outputs": [],
   "source": [
    "def fit_evaluate_model(model, X_train, y_train):\n",
    "    \n",
    "    \"\"\" \n",
    "    Function takes a model to train as input, and returns the performance\n",
    "    of said model (in the form of various metrics). \n",
    "    \n",
    "    \"\"\"\n",
    "    \n",
    "    text_clf = Pipeline([('tfidf', TfidfVectorizer()),\n",
    "                         ('clf',model)])\n",
    "    \n",
    "    # Fit the model to the training set\n",
    "    text_clf.fit(X_train, y_train) \n",
    "    \n",
    "    # Obtain predictions on the training and validation set\n",
    "    y_pred = text_clf.predict(X_train)\n",
    "    y_pred_test=text_clf.predict(X_test)\n",
    "    \n",
    "    # Determining the performance of the model\n",
    "    accuracy = accuracy_score(y_train,y_pred)\n",
    "    precision = precision_score(y_train,y_pred,average='weighted')\n",
    "    recall = recall_score(y_train,y_pred,average='weighted')\n",
    "    f1 = f1_score(y_train,y_pred,average='weighted')\n",
    "    f1_test = f1_score(y_test,y_pred_test,average='weighted')\n",
    "    \n",
    "    # Creating a dictionary for the metrics\n",
    "    performance = {\"accuracy\": accuracy,\"precision\":precision,\n",
    "                   \"recall\":recall,\"f1_score\":f1,\"f1_test_score\":f1_test}\n",
    "    \n",
    "    output = pd.DataFrame([performance])\n",
    "\n",
    " \n",
    "    return output\n",
    "    "
   ]
  },
  {
   "cell_type": "markdown",
   "metadata": {
    "colab_type": "text",
    "id": "j1RASFGYBfmX"
   },
   "source": [
    "#### Model 1 : Logistic Regression"
   ]
  },
  {
   "cell_type": "code",
   "execution_count": 27,
   "metadata": {
    "colab": {},
    "colab_type": "code",
    "id": "C8WToKEIBfmX"
   },
   "outputs": [],
   "source": [
    "model1 = LogisticRegression(max_iter=10000)\n",
    "logistic_model = fit_evaluate_model(model1, X_train, y_train)"
   ]
  },
  {
   "cell_type": "markdown",
   "metadata": {
    "colab_type": "text",
    "id": "DAEIkcm6Bfmd"
   },
   "source": [
    "#### Model 2: Linear SVM model"
   ]
  },
  {
   "cell_type": "code",
   "execution_count": 28,
   "metadata": {
    "colab": {},
    "colab_type": "code",
    "id": "MGcXHvpzBfme"
   },
   "outputs": [],
   "source": [
    "model2 = LinearSVC()\n",
    "linear_svc = fit_evaluate_model(model2, X_train, y_train)"
   ]
  },
  {
   "cell_type": "markdown",
   "metadata": {
    "colab_type": "text",
    "id": "rjR02EgmBfmi"
   },
   "source": [
    "#### Model 3 : Kernel SVM Model"
   ]
  },
  {
   "cell_type": "code",
   "execution_count": 29,
   "metadata": {
    "colab": {},
    "colab_type": "code",
    "id": "iQX4mAU8Bfmj"
   },
   "outputs": [],
   "source": [
    "model3 = SVC(kernel = 'rbf')\n",
    "kernel_svc = fit_evaluate_model(model3, X_train, y_train)"
   ]
  },
  {
   "cell_type": "markdown",
   "metadata": {
    "colab_type": "text",
    "id": "dF9jHJrWAdNI"
   },
   "source": [
    "#### Model 4 : K-NN Model"
   ]
  },
  {
   "cell_type": "code",
   "execution_count": 30,
   "metadata": {
    "colab": {},
    "colab_type": "code",
    "id": "7y-dkyYtAdNJ"
   },
   "outputs": [],
   "source": [
    "model4 = KNeighborsClassifier(n_neighbors = 5, metric = 'minkowski', p = 2)\n",
    "k_nn = fit_evaluate_model(model4,X_train, y_train)"
   ]
  },
  {
   "cell_type": "markdown",
   "metadata": {
    "colab_type": "text",
    "id": "rrDDVc1aBfmm"
   },
   "source": [
    "#### Assessing the performance"
   ]
  },
  {
   "cell_type": "code",
   "execution_count": 35,
   "metadata": {
    "colab": {},
    "colab_type": "code",
    "id": "L70wP_7lBfmm",
    "outputId": "34fdd61f-d4a5-4d8e-dc8c-52e1e9f9f84a"
   },
   "outputs": [
    {
     "data": {
      "text/html": [
       "<div>\n",
       "<style scoped>\n",
       "    .dataframe tbody tr th:only-of-type {\n",
       "        vertical-align: middle;\n",
       "    }\n",
       "\n",
       "    .dataframe tbody tr th {\n",
       "        vertical-align: top;\n",
       "    }\n",
       "\n",
       "    .dataframe thead th {\n",
       "        text-align: right;\n",
       "    }\n",
       "</style>\n",
       "<table border=\"1\" class=\"dataframe\">\n",
       "  <thead>\n",
       "    <tr style=\"text-align: right;\">\n",
       "      <th></th>\n",
       "      <th>accuracy</th>\n",
       "      <th>precision</th>\n",
       "      <th>recall</th>\n",
       "      <th>f1_score</th>\n",
       "      <th>f1_test_score</th>\n",
       "    </tr>\n",
       "  </thead>\n",
       "  <tbody>\n",
       "    <tr>\n",
       "      <th>Logistic Regression</th>\n",
       "      <td>0.999508</td>\n",
       "      <td>0.999508</td>\n",
       "      <td>0.999508</td>\n",
       "      <td>0.999508</td>\n",
       "      <td>0.995304</td>\n",
       "    </tr>\n",
       "    <tr>\n",
       "      <th>Linear SVM Model</th>\n",
       "      <td>1.000000</td>\n",
       "      <td>1.000000</td>\n",
       "      <td>1.000000</td>\n",
       "      <td>1.000000</td>\n",
       "      <td>0.997575</td>\n",
       "    </tr>\n",
       "    <tr>\n",
       "      <th>Kernel SVM Model</th>\n",
       "      <td>1.000000</td>\n",
       "      <td>1.000000</td>\n",
       "      <td>1.000000</td>\n",
       "      <td>1.000000</td>\n",
       "      <td>0.995915</td>\n",
       "    </tr>\n",
       "    <tr>\n",
       "      <th>K-NN Model</th>\n",
       "      <td>0.978977</td>\n",
       "      <td>0.979071</td>\n",
       "      <td>0.978977</td>\n",
       "      <td>0.978865</td>\n",
       "      <td>0.962653</td>\n",
       "    </tr>\n",
       "  </tbody>\n",
       "</table>\n",
       "</div>"
      ],
      "text/plain": [
       "                     accuracy  precision    recall  f1_score  f1_test_score\n",
       "Logistic Regression  0.999508   0.999508  0.999508  0.999508       0.995304\n",
       "Linear SVM Model     1.000000   1.000000  1.000000  1.000000       0.997575\n",
       "Kernel SVM Model     1.000000   1.000000  1.000000  1.000000       0.995915\n",
       "K-NN Model           0.978977   0.979071  0.978977  0.978865       0.962653"
      ]
     },
     "execution_count": 35,
     "metadata": {},
     "output_type": "execute_result"
    }
   ],
   "source": [
    "assess = pd.concat([logistic_model, linear_svc, kernel_svc, k_nn])\n",
    "assess.index = ['Logistic Regression','Linear SVM Model','Kernel SVM Model', 'K-NN Model']\n",
    "assess"
   ]
  },
  {
   "cell_type": "markdown",
   "metadata": {
    "colab_type": "text",
    "id": "K0nmMES3Bfms"
   },
   "source": [
    "The imbalance in our data can also be seen in the accuracy being significantly higher than the f1 score across all the models. "
   ]
  },
  {
   "cell_type": "markdown",
   "metadata": {
    "colab_type": "text",
    "id": "iNwFzcyJPfbL"
   },
   "source": [
    "The models' performance can now be improved through **hyperparametric tuning**."
   ]
  },
  {
   "cell_type": "markdown",
   "metadata": {
    "colab_type": "text",
    "id": "vWKOM3OLPfcF"
   },
   "source": [
    "<a id='submission'></a>\n",
    "## Submissions to Kaggle"
   ]
  },
  {
   "cell_type": "markdown",
   "metadata": {
    "colab_type": "text",
    "id": "dAmoE9KDPfcF"
   },
   "source": [
    "Submissions are now made to Kaggle to see the performance of the models on the true testing dataset. These F1-scores are the ones that carry the most weight."
   ]
  },
  {
   "cell_type": "code",
   "execution_count": 39,
   "metadata": {
    "colab": {},
    "colab_type": "code",
    "id": "Mp96iW3gPfcI"
   },
   "outputs": [],
   "source": [
    "def testing(model, filename, X, y):\n",
    "    \n",
    "    \"\"\"\" \n",
    "    Function takes a model, and X and y variables to train as input,\n",
    "    and returns a csv file of predictions (named as \"filename\") to \n",
    "    submit to Kaggle in order to obtain the true F1-score. \n",
    "    \n",
    "    \"\"\"\n",
    "    test_x = test_data['text']\n",
    "    \n",
    "    text_clf = Pipeline([('tfidf', TfidfVectorizer()),\n",
    "                         ('clf',model)])\n",
    "    \n",
    "    # Fit the model to the training set\n",
    "    text_clf.fit(X, y) \n",
    "    \n",
    "    # Obtain predictions on the testing set\n",
    "    y_pred = text_clf.predict(test_x)\n",
    "    \n",
    "    # Save predictions in a new DataFrame\n",
    "    predictions = pd.DataFrame(y_pred, columns=['lang_id'], index = test_data.index)\n",
    "    predictions.reset_index(inplace=True)\n",
    "    \n",
    "    return predictions.to_csv(filename+'.csv', index=False)"
   ]
  },
  {
   "cell_type": "code",
   "execution_count": 40,
   "metadata": {
    "colab": {},
    "colab_type": "code",
    "id": "5sfYGv-WPfcM"
   },
   "outputs": [],
   "source": [
    "# return predictions.to_csv('/kaggle/working/'+filename+'.csv', index=False)"
   ]
  },
  {
   "cell_type": "markdown",
   "metadata": {
    "colab_type": "text",
    "id": "Tn613iH7Pfc2"
   },
   "source": [
    "All the models built in this notebook are now evaluated according to the performance metric (The `F1-Score`) on the testing set:"
   ]
  },
  {
   "cell_type": "markdown",
   "metadata": {
    "colab_type": "text",
    "id": "CQMz2PRsPfcP"
   },
   "source": [
    "### Models with default parameters"
   ]
  },
  {
   "cell_type": "markdown",
   "metadata": {
    "colab_type": "text",
    "id": "lnovbPx0PfcP"
   },
   "source": [
    "#### Logistic Regression: F1 Score = 0.73364"
   ]
  },
  {
   "cell_type": "code",
   "execution_count": 41,
   "metadata": {
    "colab": {},
    "colab_type": "code",
    "id": "yFzfOjwUPfcQ"
   },
   "outputs": [],
   "source": [
    "testing(model1, 'LogReg', X_train, y_train)"
   ]
  },
  {
   "cell_type": "markdown",
   "metadata": {
    "colab_type": "text",
    "id": "8y4IGyncPfcS"
   },
   "source": [
    "#### Linear SVC: F1 Score = 0.74834"
   ]
  },
  {
   "cell_type": "code",
   "execution_count": 42,
   "metadata": {
    "colab": {},
    "colab_type": "code",
    "id": "OTd5bEn4PfcT"
   },
   "outputs": [],
   "source": [
    "testing(model2, 'LinearSVC', X_train, y_train)"
   ]
  },
  {
   "cell_type": "markdown",
   "metadata": {
    "colab_type": "text",
    "id": "VpDFhMD3PfcU"
   },
   "source": [
    "#### Kernel SVM: F1 Score = 0.73577"
   ]
  },
  {
   "cell_type": "code",
   "execution_count": 43,
   "metadata": {
    "colab": {},
    "colab_type": "code",
    "id": "z-eKtD_SPfcV"
   },
   "outputs": [],
   "source": [
    "testing(model3, 'KernelSVC', X_train, y_train)"
   ]
  },
  {
   "cell_type": "markdown",
   "metadata": {
    "colab_type": "text",
    "id": "gatdE5g8PfcX"
   },
   "source": [
    "#### K-NN: F1 Score = 0.64971"
   ]
  },
  {
   "cell_type": "code",
   "execution_count": 44,
   "metadata": {
    "colab": {},
    "colab_type": "code",
    "id": "l6xmOFmHPfcX"
   },
   "outputs": [],
   "source": [
    "testing(model4, 'KNN', X_train, y_train)"
   ]
  },
  {
   "cell_type": "markdown",
   "metadata": {
    "colab_type": "text",
    "id": "xefVGrMZPfcZ"
   },
   "source": [
    "### Models with tuned hyperparameters"
   ]
  },
  {
   "cell_type": "markdown",
   "metadata": {
    "colab_type": "text",
    "id": "gI8_LFbTPfcZ"
   },
   "source": [
    "#### Logistic Regression: F1 Score = 0.75225"
   ]
  },
  {
   "cell_type": "code",
   "execution_count": 45,
   "metadata": {
    "colab": {},
    "colab_type": "code",
    "id": "FBpwgMrjPfca"
   },
   "outputs": [],
   "source": [
    "testing(LogisticRegression(C=6.0, max_iter=10000), 'LogReg_Tuned', X_train, y_train)"
   ]
  },
  {
   "cell_type": "markdown",
   "metadata": {
    "colab_type": "text",
    "id": "qy2kLVoPPfcb"
   },
   "source": [
    "#### Kernel SVM: F1 Score = 0.75651"
   ]
  },
  {
   "cell_type": "code",
   "execution_count": null,
   "metadata": {
    "colab": {},
    "colab_type": "code",
    "id": "vWEGOlJlPfcc"
   },
   "outputs": [],
   "source": [
    "testing(SVC(kernel='rbf', C=100, gamma='scale'), 'KernelSVC_Tuned', X_train, y_train)"
   ]
  },
  {
   "cell_type": "markdown",
   "metadata": {
    "colab_type": "text",
    "id": "T_toDt_BPfce"
   },
   "source": [
    "#### K-Nearest Neighbours: F1 Score = 0.65259"
   ]
  },
  {
   "cell_type": "code",
   "execution_count": null,
   "metadata": {
    "colab": {},
    "colab_type": "code",
    "id": "wPyO9ji0Pfce"
   },
   "outputs": [],
   "source": [
    "testing(KNeighborsClassifier(leaf_size=20, n_neighbors=9), 'KNN_Tuned', X_train, y_train)"
   ]
  },
  {
   "cell_type": "markdown",
   "metadata": {
    "colab_type": "text",
    "id": "m_q8uF1xPfch"
   },
   "source": [
    "### Models with resampled data"
   ]
  },
  {
   "cell_type": "markdown",
   "metadata": {
    "colab_type": "text",
    "id": "VV2yK0NmPfch"
   },
   "source": [
    "#### Logistic Regression: F1 Score = 0.65483"
   ]
  },
  {
   "cell_type": "markdown",
   "metadata": {
    "colab_type": "text",
    "id": "jjVNNO9gPfcO"
   },
   "source": [
    "<a id='the_eval'></a>\n",
    "## Evaluating the models"
   ]
  },
  {
   "cell_type": "markdown",
   "metadata": {
    "colab_type": "text",
    "id": "fmytizgGPfcP"
   },
   "source": [
    "Now we evaluate the performance of all the models:"
   ]
  },
  {
   "cell_type": "code",
   "execution_count": null,
   "metadata": {
    "colab": {},
    "colab_type": "code",
    "id": "Zy9QvLrpPfdA"
   },
   "outputs": [],
   "source": [
    "def the_fit(model):\n",
    "    \n",
    "    text_clf = Pipeline([('tfidf', TfidfVectorizer()),\n",
    "                     ('clf', model)])\n",
    "\n",
    "    # Feed the training data through the pipeline\n",
    "    return text_clf.fit(X_train, y_train) \n",
    "    "
   ]
  },
  {
   "cell_type": "code",
   "execution_count": null,
   "metadata": {
    "colab": {},
    "colab_type": "code",
    "id": "HodxqThPPfdB"
   },
   "outputs": [],
   "source": [
    "# The best model\n",
    "best_model = SVC(kernel='rbf', C=100, gamma='scale')\n",
    "kernel_svc = the_fit(best_model)"
   ]
  },
  {
   "cell_type": "code",
   "execution_count": null,
   "metadata": {
    "colab": {},
    "colab_type": "code",
    "id": "vHAwiWVytMeA"
   },
   "outputs": [],
   "source": [
    "model = kernel_svc \n",
    "model_save_path = \"model_1.pkl\"\n",
    "with open(model_save_path,'wb') as file:\n",
    "    pickle.dump(model,file)"
   ]
  }
 ],
 "metadata": {
  "colab": {
   "collapsed_sections": [
    "mOk8Taoe_lHW",
    "lkEpisdUFJgM",
    "t2vLIzKtEoGY",
    "tu5vOrDZIx3e",
    "rMofB282VO-I",
    "GjLjmKMMPfZq",
    "25FQN9Z3Bfk_",
    "NnOzLrAOcsXY",
    "UbSMx0k_d25V",
    "cRUNcxU2e5st",
    "TLri0ZLyfOdo",
    "JVQ_X9_hfuci",
    "feYZCCRoGpPE",
    "lyZ0oz32BfmD",
    "dbj1_ukAbgBw",
    "OGddBsj_iZm2",
    "Fs7_xj2XjYGs",
    "j1RASFGYBfmX",
    "DAEIkcm6Bfmd",
    "rjR02EgmBfmi",
    "dF9jHJrWAdNI",
    "rrDDVc1aBfmm",
    "2S5DsLoVAdNU",
    "e9s4au61AdNZ",
    "iUR-bF95AdNd",
    "kCOaNEp4PfbZ",
    "62hQGlIYPfbc",
    "tAn2YTMQixnR",
    "puqyBU9Qmv2I",
    "XTVCnPiukmN0",
    "MfErKGvklbxq",
    "pEabmov6mFXc",
    "WNgjIFc0AdOH",
    "RV5xdUbNm1Vw",
    "_2I6SHDTBfnM",
    "vWKOM3OLPfcF",
    "jjVNNO9gPfcO",
    "CQMz2PRsPfcP",
    "lnovbPx0PfcP",
    "8y4IGyncPfcS",
    "VpDFhMD3PfcU",
    "gatdE5g8PfcX",
    "xefVGrMZPfcZ",
    "gI8_LFbTPfcZ",
    "qy2kLVoPPfcb",
    "T_toDt_BPfce",
    "m_q8uF1xPfch",
    "VV2yK0NmPfch",
    "iU4OtjSWPfcl",
    "sTQRNrZ9Pfcq",
    "LB4WyuIoPfcy",
    "sR_0inDD1OcM",
    "1pwyR9zP4iwc"
   ],
   "name": "classification-notebook-team-1-jhb.ipynb",
   "provenance": []
  },
  "kernelspec": {
   "display_name": "Python 3",
   "language": "python",
   "name": "python3"
  },
  "language_info": {
   "codemirror_mode": {
    "name": "ipython",
    "version": 3
   },
   "file_extension": ".py",
   "mimetype": "text/x-python",
   "name": "python",
   "nbconvert_exporter": "python",
   "pygments_lexer": "ipython3",
   "version": "3.8.5"
  }
 },
 "nbformat": 4,
 "nbformat_minor": 1
}
